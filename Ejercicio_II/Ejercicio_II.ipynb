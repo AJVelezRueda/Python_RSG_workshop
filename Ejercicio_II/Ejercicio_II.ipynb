{
 "cells": [
  {
   "cell_type": "markdown",
   "metadata": {},
   "source": [
    "**Este programa corre el Profit(programa para el calculo del RMSD por sitio). Se requieren los PDB de cada confórmero, el archivo \"profitparams2.txt\" que contiene los parámetros con que se desean correr el programa y el archivo \"mdm78.mat\", junto con el ejecutable.**"
   ]
  },
  {
   "cell_type": "code",
   "execution_count": 55,
   "metadata": {
    "collapsed": true
   },
   "outputs": [],
   "source": [
    "import os\n",
    "import subprocess"
   ]
  },
  {
   "cell_type": "code",
   "execution_count": 56,
   "metadata": {
    "collapsed": true
   },
   "outputs": [],
   "source": [
    "Pares = open(\"/home/usuario/PYTHON_Scripts_programas/Workshop_leloir_2018/Ejercicio_II/conformeros\",\"r\").read()"
   ]
  },
  {
   "cell_type": "code",
   "execution_count": 57,
   "metadata": {
    "collapsed": false
   },
   "outputs": [],
   "source": [
    "par_I = Pares.split('\\n')[0]\n",
    "par_II = Pares.split('\\n')[1]"
   ]
  },
  {
   "cell_type": "code",
   "execution_count": 58,
   "metadata": {
    "collapsed": false
   },
   "outputs": [],
   "source": [
    "#Nos movemos al directorio donde tenemos todo lo necesario para correr el PROFIT\n",
    "os.chdir(\"/home/usuario/PYTHON_Scripts_programas/Workshop_leloir_2018/Ejercicio_II\")"
   ]
  },
  {
   "cell_type": "code",
   "execution_count": 59,
   "metadata": {
    "collapsed": false
   },
   "outputs": [
    {
     "name": "stdout",
     "output_type": "stream",
     "text": [
      "3SLH_B.pdb  conformeros\t\tmdm78.mat  profitparams2.txt\r\n",
      "3SLH_D.pdb  Ejercicio_II.ipynb\tprofit\r\n"
     ]
    }
   ],
   "source": [
    "#Comprobamos que tenemos todos los archivos necesarios para la corrida:\n",
    "!ls"
   ]
  },
  {
   "cell_type": "markdown",
   "metadata": {},
   "source": [
    "Mas informacion sobre el uso de comandos de Unix en Jupyter: https://jakevdp.github.io/PythonDataScienceHandbook/01.05-ipython-and-shell-commands.html"
   ]
  },
  {
   "cell_type": "code",
   "execution_count": 60,
   "metadata": {
    "collapsed": false
   },
   "outputs": [],
   "source": [
    "try:\n",
    "    arch1 = par_I + \".pdb\"\n",
    "    arch2 = par_II + \".pdb\"\n",
    "    RMSarchnombre = \"RMS-res_\" + par_I + \"-\" + par_II +\".txt\"\n",
    "    Aarch = \"ref_\" + par_I + \".txt\"\n",
    "    Barch = \"ref_\" + par_II + \".txt\"\n",
    "    subprocess.call([\"profit\",\"-f \",\"profitparams2.txt\",arch1,arch2])\n",
    "    os.rename(\"RMS-res.txt\",RMSarchnombre)\n",
    "    os.rename(\"A\", Aarch)\n",
    "    os.rename(\"B\", Barch)\n",
    "except OSError:\n",
    "    print(\"No se pudo\")\n",
    "    pass"
   ]
  },
  {
   "cell_type": "code",
   "execution_count": null,
   "metadata": {
    "collapsed": true
   },
   "outputs": [],
   "source": []
  }
 ],
 "metadata": {
  "kernelspec": {
   "display_name": "Python 2",
   "language": "python",
   "name": "python2"
  },
  "language_info": {
   "codemirror_mode": {
    "name": "ipython",
    "version": 2
   },
   "file_extension": ".py",
   "mimetype": "text/x-python",
   "name": "python",
   "nbconvert_exporter": "python",
   "pygments_lexer": "ipython2",
   "version": "2.7.13"
  }
 },
 "nbformat": 4,
 "nbformat_minor": 0
}

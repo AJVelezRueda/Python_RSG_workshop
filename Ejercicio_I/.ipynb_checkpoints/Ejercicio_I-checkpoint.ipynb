{
 "cells": [
  {
   "cell_type": "markdown",
   "metadata": {},
   "source": [
    "##En este ejercicio tomamos un uniprot dado, extraemos los PDB asociados y exportamos los datos en una archivo fácilmente parseable:"
   ]
  },
  {
   "cell_type": "markdown",
   "metadata": {},
   "source": [
    "Tené en cuenta que tu programa puede ser diferente e igualmente bueno. \n",
    "\n",
    "###RETO: te proponemos después de la seguda clase donde vemos los contenidos sobre PANDAS reescribir este programa"
   ]
  },
  {
   "cell_type": "code",
   "execution_count": 1,
   "metadata": {
    "collapsed": true
   },
   "outputs": [],
   "source": [
    "#Aqui abrimos el archivo y lo leemos en una misma linea, pidiendole que nos separe el texto por linea\n",
    "tabla = open('/home/usuario/PYTHON_Scripts_programas/Workshop_leloir_2018/Ejercicio_I/pdb_unip_linked_SIFTS.tsv','r').readlines()"
   ]
  },
  {
   "cell_type": "markdown",
   "metadata": {},
   "source": [
    "####¿Qué tipo de dato es la variable tabla?\n",
    "\n",
    "        la función type() puede serte útil para saberlo."
   ]
  },
  {
   "cell_type": "code",
   "execution_count": null,
   "metadata": {
    "collapsed": true
   },
   "outputs": [],
   "source": []
  },
  {
   "cell_type": "markdown",
   "metadata": {},
   "source": [
    "**Como vemos la tabla esta estructurada por tabs (\\t) para dividir columnas y enter (\\n) para dividir por linea o rows, por lo que iterando por linea podríamos aprovechar para dividir cada linea y así acceder a los distintos datos:**"
   ]
  },
  {
   "cell_type": "code",
   "execution_count": 9,
   "metadata": {
    "collapsed": false
   },
   "outputs": [],
   "source": [
    "unip_de_interes = 'P00720'\n",
    "for i in tabla:\n",
    "    if unip_de_interes in i:\n",
    "        #Dividimos la linea por tabs para acceder a los datos usando la funcion split(), lo cual nos crea una lista\n",
    "        #Accedemos a cada columna de la linea como accedemos a los elementos de una lista(que es lo que genera la función split())\n",
    "        pdb = i.split('\\t')[0]\n",
    "        cadena = i.split('\\t')[1]\n",
    "        uniprot = i.split('\\t')[2]\n",
    "        \n",
    "        #Reescribimos los PDBs como: código en mayúscula + '_' + cadena\n",
    "        cod_pdb = pdb.upper() + '_' + cadena.upper()\n",
    "        #Escribimos la lista de confórmeros para nuestra proteína de interes en un archivo llamado conformeros\n",
    "        #Separamos cada elemento por enter ('\\n')\n",
    "        with open('/home/usuario/PYTHON_Scripts_programas/Workshop_leloir_2018/Ejercicio_I/conformeros','w') as miarch:\n",
    "            miarch.write(cod_pdb + '\\n')"
   ]
  },
  {
   "cell_type": "code",
   "execution_count": null,
   "metadata": {
    "collapsed": true
   },
   "outputs": [],
   "source": []
  }
 ],
 "metadata": {
  "kernelspec": {
   "display_name": "Python 2",
   "language": "python",
   "name": "python2"
  },
  "language_info": {
   "codemirror_mode": {
    "name": "ipython",
    "version": 2
   },
   "file_extension": ".py",
   "mimetype": "text/x-python",
   "name": "python",
   "nbconvert_exporter": "python",
   "pygments_lexer": "ipython2",
   "version": "2.7.13"
  }
 },
 "nbformat": 4,
 "nbformat_minor": 0
}
